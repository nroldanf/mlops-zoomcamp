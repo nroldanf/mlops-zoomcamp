{
 "cells": [
  {
   "cell_type": "code",
   "execution_count": 1,
   "id": "960293ae-5913-49fe-8a2a-b0c84697e9e2",
   "metadata": {},
   "outputs": [],
   "source": [
    "import pandas as pd\n",
    "import numpy as np\n",
    "import seaborn as sns\n",
    "import ptitprince as pt\n",
    "import matplotlib.pyplot as plt"
   ]
  },
  {
   "cell_type": "code",
   "execution_count": 20,
   "id": "cfeaf7c0-1a01-43a9-ba1e-098702c0f59d",
   "metadata": {},
   "outputs": [],
   "source": [
    "def read_dataframe(path):\n",
    "    df = pd.read_parquet(path)\n",
    "    df[\"duration_min\"] = (df[\"dropOff_datetime\"] - df[\"pickup_datetime\"]) / (np.timedelta64(1, 's') * 60)\n",
    "    df = df[(df[\"duration_min\"] >= 1) & (df[\"duration_min\"] <= 60)]\n",
    "    \n",
    "    df[\"PUlocationID\"].fillna(-1, inplace=True)\n",
    "    df[\"DOlocationID\"].fillna(-1, inplace=True) \n",
    "    \n",
    "    categorical = ['PUlocationID', 'DOlocationID']\n",
    "    df[categorical] = df[categorical].astype(str)\n",
    "    return df"
   ]
  },
  {
   "cell_type": "markdown",
   "id": "dae8da3f-fc37-4e5b-a0a5-7e86cf51bac8",
   "metadata": {
    "tags": []
   },
   "source": [
    "## Q1. Downloading the data\n",
    "\n",
    "Read the data for January. How many records are there?"
   ]
  },
  {
   "cell_type": "code",
   "execution_count": 3,
   "id": "b2df11f0-b4dd-4ccd-9ea5-151ddf30d185",
   "metadata": {
    "tags": []
   },
   "outputs": [
    {
     "data": {
      "text/html": [
       "<div>\n",
       "<style scoped>\n",
       "    .dataframe tbody tr th:only-of-type {\n",
       "        vertical-align: middle;\n",
       "    }\n",
       "\n",
       "    .dataframe tbody tr th {\n",
       "        vertical-align: top;\n",
       "    }\n",
       "\n",
       "    .dataframe thead th {\n",
       "        text-align: right;\n",
       "    }\n",
       "</style>\n",
       "<table border=\"1\" class=\"dataframe\">\n",
       "  <thead>\n",
       "    <tr style=\"text-align: right;\">\n",
       "      <th></th>\n",
       "      <th>dispatching_base_num</th>\n",
       "      <th>pickup_datetime</th>\n",
       "      <th>dropOff_datetime</th>\n",
       "      <th>PUlocationID</th>\n",
       "      <th>DOlocationID</th>\n",
       "      <th>SR_Flag</th>\n",
       "      <th>Affiliated_base_number</th>\n",
       "    </tr>\n",
       "  </thead>\n",
       "  <tbody>\n",
       "    <tr>\n",
       "      <th>0</th>\n",
       "      <td>B00009</td>\n",
       "      <td>2021-01-01 00:27:00</td>\n",
       "      <td>2021-01-01 00:44:00</td>\n",
       "      <td>NaN</td>\n",
       "      <td>NaN</td>\n",
       "      <td>None</td>\n",
       "      <td>B00009</td>\n",
       "    </tr>\n",
       "    <tr>\n",
       "      <th>1</th>\n",
       "      <td>B00009</td>\n",
       "      <td>2021-01-01 00:50:00</td>\n",
       "      <td>2021-01-01 01:07:00</td>\n",
       "      <td>NaN</td>\n",
       "      <td>NaN</td>\n",
       "      <td>None</td>\n",
       "      <td>B00009</td>\n",
       "    </tr>\n",
       "    <tr>\n",
       "      <th>2</th>\n",
       "      <td>B00013</td>\n",
       "      <td>2021-01-01 00:01:00</td>\n",
       "      <td>2021-01-01 01:51:00</td>\n",
       "      <td>NaN</td>\n",
       "      <td>NaN</td>\n",
       "      <td>None</td>\n",
       "      <td>B00013</td>\n",
       "    </tr>\n",
       "    <tr>\n",
       "      <th>3</th>\n",
       "      <td>B00037</td>\n",
       "      <td>2021-01-01 00:13:09</td>\n",
       "      <td>2021-01-01 00:21:26</td>\n",
       "      <td>NaN</td>\n",
       "      <td>72.0</td>\n",
       "      <td>None</td>\n",
       "      <td>B00037</td>\n",
       "    </tr>\n",
       "    <tr>\n",
       "      <th>4</th>\n",
       "      <td>B00037</td>\n",
       "      <td>2021-01-01 00:38:31</td>\n",
       "      <td>2021-01-01 00:53:44</td>\n",
       "      <td>NaN</td>\n",
       "      <td>61.0</td>\n",
       "      <td>None</td>\n",
       "      <td>B00037</td>\n",
       "    </tr>\n",
       "  </tbody>\n",
       "</table>\n",
       "</div>"
      ],
      "text/plain": [
       "  dispatching_base_num     pickup_datetime    dropOff_datetime  PUlocationID  \\\n",
       "0               B00009 2021-01-01 00:27:00 2021-01-01 00:44:00           NaN   \n",
       "1               B00009 2021-01-01 00:50:00 2021-01-01 01:07:00           NaN   \n",
       "2               B00013 2021-01-01 00:01:00 2021-01-01 01:51:00           NaN   \n",
       "3               B00037 2021-01-01 00:13:09 2021-01-01 00:21:26           NaN   \n",
       "4               B00037 2021-01-01 00:38:31 2021-01-01 00:53:44           NaN   \n",
       "\n",
       "   DOlocationID SR_Flag Affiliated_base_number  \n",
       "0           NaN    None                 B00009  \n",
       "1           NaN    None                 B00009  \n",
       "2           NaN    None                 B00013  \n",
       "3          72.0    None                 B00037  \n",
       "4          61.0    None                 B00037  "
      ]
     },
     "execution_count": 3,
     "metadata": {},
     "output_type": "execute_result"
    }
   ],
   "source": [
    "df = pd.read_parquet(\"../data/fhv_tripdata_2021-01.parquet\")\n",
    "df.head()"
   ]
  },
  {
   "cell_type": "markdown",
   "id": "38224164-eb21-4ca2-a4a9-ce702f0d3210",
   "metadata": {},
   "source": [
    "There are 1154112 rows."
   ]
  },
  {
   "cell_type": "markdown",
   "id": "84a51fb1-75ee-4cd3-bd3e-4154563c9f85",
   "metadata": {},
   "source": [
    "## Q2. Computing duration\n",
    "\n",
    "Now let's compute the duration variable. It should contain the duration of a ride in minutes.\n",
    "\n",
    "What's the average trip duration in January?"
   ]
  },
  {
   "cell_type": "code",
   "execution_count": 4,
   "id": "f227f7c9-54c6-4ba6-9659-1a3a057437c5",
   "metadata": {},
   "outputs": [
    {
     "data": {
      "text/html": [
       "<div>\n",
       "<style scoped>\n",
       "    .dataframe tbody tr th:only-of-type {\n",
       "        vertical-align: middle;\n",
       "    }\n",
       "\n",
       "    .dataframe tbody tr th {\n",
       "        vertical-align: top;\n",
       "    }\n",
       "\n",
       "    .dataframe thead th {\n",
       "        text-align: right;\n",
       "    }\n",
       "</style>\n",
       "<table border=\"1\" class=\"dataframe\">\n",
       "  <thead>\n",
       "    <tr style=\"text-align: right;\">\n",
       "      <th></th>\n",
       "      <th>dispatching_base_num</th>\n",
       "      <th>pickup_datetime</th>\n",
       "      <th>dropOff_datetime</th>\n",
       "      <th>PUlocationID</th>\n",
       "      <th>DOlocationID</th>\n",
       "      <th>SR_Flag</th>\n",
       "      <th>Affiliated_base_number</th>\n",
       "    </tr>\n",
       "  </thead>\n",
       "  <tbody>\n",
       "    <tr>\n",
       "      <th>0</th>\n",
       "      <td>B00009</td>\n",
       "      <td>2021-01-01 00:27:00</td>\n",
       "      <td>2021-01-01 00:44:00</td>\n",
       "      <td>NaN</td>\n",
       "      <td>NaN</td>\n",
       "      <td>None</td>\n",
       "      <td>B00009</td>\n",
       "    </tr>\n",
       "    <tr>\n",
       "      <th>1</th>\n",
       "      <td>B00009</td>\n",
       "      <td>2021-01-01 00:50:00</td>\n",
       "      <td>2021-01-01 01:07:00</td>\n",
       "      <td>NaN</td>\n",
       "      <td>NaN</td>\n",
       "      <td>None</td>\n",
       "      <td>B00009</td>\n",
       "    </tr>\n",
       "  </tbody>\n",
       "</table>\n",
       "</div>"
      ],
      "text/plain": [
       "  dispatching_base_num     pickup_datetime    dropOff_datetime  PUlocationID  \\\n",
       "0               B00009 2021-01-01 00:27:00 2021-01-01 00:44:00           NaN   \n",
       "1               B00009 2021-01-01 00:50:00 2021-01-01 01:07:00           NaN   \n",
       "\n",
       "   DOlocationID SR_Flag Affiliated_base_number  \n",
       "0           NaN    None                 B00009  \n",
       "1           NaN    None                 B00009  "
      ]
     },
     "execution_count": 4,
     "metadata": {},
     "output_type": "execute_result"
    }
   ],
   "source": [
    "df.head(2)"
   ]
  },
  {
   "cell_type": "code",
   "execution_count": 5,
   "id": "ad0bfab5-c55c-4c86-bb2c-cc56a313431c",
   "metadata": {},
   "outputs": [],
   "source": [
    "df[\"duration_min\"] = (df[\"dropOff_datetime\"] - df[\"pickup_datetime\"]) / (np.timedelta64(1, 's') * 60)"
   ]
  },
  {
   "cell_type": "code",
   "execution_count": 6,
   "id": "834ad094-e455-4053-b4ff-e1523776f310",
   "metadata": {},
   "outputs": [
    {
     "data": {
      "text/plain": [
       "'Average trip duration in January is 19.167224093791006'"
      ]
     },
     "execution_count": 6,
     "metadata": {},
     "output_type": "execute_result"
    }
   ],
   "source": [
    "f\"Average trip duration in January is {df['duration_min'].mean()}\""
   ]
  },
  {
   "cell_type": "markdown",
   "id": "05f45f12-63d7-49ea-b1b4-3a9da12e331e",
   "metadata": {},
   "source": [
    "## Data preparation\n",
    "Check the distribution of the duration variable. There are some outliners.\n",
    "\n",
    "Let's remove them and keep only the records where the duration was between 1 and 60 minutes (inclusive).\n",
    "\n",
    "How many records did you drop?"
   ]
  },
  {
   "cell_type": "code",
   "execution_count": 7,
   "id": "73bf08c1-7638-445a-8c4b-e38ca2a6dd95",
   "metadata": {},
   "outputs": [
    {
     "data": {
      "text/plain": [
       "<AxesSubplot:xlabel='duration_min'>"
      ]
     },
     "execution_count": 7,
     "metadata": {},
     "output_type": "execute_result"
    },
    {
     "data": {
      "image/png": "[encoded data removed]",
      "text/plain": [
       "<Figure size 432x288 with 1 Axes>"
      ]
     },
     "metadata": {
      "needs_background": "light"
     },
     "output_type": "display_data"
    }
   ],
   "source": [
    "sns.boxplot(x=df[\"duration_min\"])"
   ]
  },
  {
   "cell_type": "code",
   "execution_count": 8,
   "id": "c99e1448-e82b-4b14-9505-b515bb4ac4d1",
   "metadata": {},
   "outputs": [
    {
     "data": {
      "text/plain": [
       "<AxesSubplot:xlabel='duration_min'>"
      ]
     },
     "execution_count": 8,
     "metadata": {},
     "output_type": "execute_result"
    },
    {
     "data": {
      "image/png": "[encoded data removed]",
      "text/plain": [
       "<Figure size 432x288 with 1 Axes>"
      ]
     },
     "metadata": {
      "needs_background": "light"
     },
     "output_type": "display_data"
    }
   ],
   "source": [
    "sns.violinplot(x=df[\"duration_min\"])"
   ]
  },
  {
   "cell_type": "code",
   "execution_count": 9,
   "id": "d6fed8cd-92d4-4f4b-be18-abaa794c24a4",
   "metadata": {},
   "outputs": [],
   "source": [
    "ort=\"v\"; pal = sns.color_palette(n_colors=1); sigma = 0.8"
   ]
  },
  {
   "cell_type": "code",
   "execution_count": 10,
   "id": "f078a87a-d864-4b49-8914-3461574e4217",
   "metadata": {},
   "outputs": [
    {
     "name": "stderr",
     "output_type": "stream",
     "text": [
      "/opt/anaconda3/envs/mlops-zoomcamp/lib/python3.8/site-packages/seaborn/_core.py:1326: UserWarning: Vertical orientation ignored with only `x` specified.\n",
      "  warnings.warn(single_var_warning.format(\"Vertical\", \"x\"))\n",
      "/opt/anaconda3/envs/mlops-zoomcamp/lib/python3.8/site-packages/seaborn/_core.py:1326: UserWarning: Vertical orientation ignored with only `x` specified.\n",
      "  warnings.warn(single_var_warning.format(\"Vertical\", \"x\"))\n",
      "/opt/anaconda3/envs/mlops-zoomcamp/lib/python3.8/site-packages/seaborn/_core.py:1326: UserWarning: Vertical orientation ignored with only `x` specified.\n",
      "  warnings.warn(single_var_warning.format(\"Vertical\", \"x\"))\n"
     ]
    },
    {
     "data": {
      "image/png": "[encoded data removed]",
      "text/plain": [
       "<Figure size 504x360 with 1 Axes>"
      ]
     },
     "metadata": {
      "needs_background": "light"
     },
     "output_type": "display_data"
    }
   ],
   "source": [
    "f, ax = plt.subplots(figsize=(7, 5))\n",
    "ax=pt.RainCloud(x=df[\"duration_min\"], palette = pal, bw = sigma,\n",
    "                 width_viol = .9, ax = ax)"
   ]
  },
  {
   "cell_type": "code",
   "execution_count": 11,
   "id": "021650f6-d53e-4388-9fc5-66e5a93c08f9",
   "metadata": {},
   "outputs": [],
   "source": [
    "df_no_outliers = df[(df[\"duration_min\"] >= 1) & (df[\"duration_min\"] <= 60)]"
   ]
  },
  {
   "cell_type": "code",
   "execution_count": 12,
   "id": "a95481f7-d205-46ff-92f3-1e83cf6a95d3",
   "metadata": {},
   "outputs": [
    {
     "data": {
      "text/plain": [
       "'44286 records were dropped'"
      ]
     },
     "execution_count": 12,
     "metadata": {},
     "output_type": "execute_result"
    }
   ],
   "source": [
    "f\"{len(df) - len(df_no_outliers)} records were dropped\""
   ]
  },
  {
   "cell_type": "markdown",
   "id": "a61190a6-ab1a-4a2f-9268-95d1e6158a8b",
   "metadata": {},
   "source": [
    "## Q3. Missing values\n",
    "\n",
    "The features we'll use for our model are the pickup and dropoff location IDs.\n",
    "\n",
    "But they have a lot of missing values there. Let's replace them with \"-1\"\n",
    "\n",
    "What's the factions of missing values for the pickup location ID? (Or the fraction of \"-1\"s after you filled the NAs)"
   ]
  },
  {
   "cell_type": "code",
   "execution_count": 13,
   "id": "764a27b8-4b0c-4b7a-afaa-c402e692db4b",
   "metadata": {},
   "outputs": [
    {
     "data": {
      "text/plain": [
       "Index(['dispatching_base_num', 'pickup_datetime', 'dropOff_datetime',\n",
       "       'PUlocationID', 'DOlocationID', 'SR_Flag', 'Affiliated_base_number',\n",
       "       'duration_min'],\n",
       "      dtype='object')"
      ]
     },
     "execution_count": 13,
     "metadata": {},
     "output_type": "execute_result"
    }
   ],
   "source": [
    "df.columns"
   ]
  },
  {
   "cell_type": "code",
   "execution_count": 14,
   "id": "60d0a9a7-35bc-4ce9-855a-2bec5ef7fd60",
   "metadata": {},
   "outputs": [
    {
     "data": {
      "text/plain": [
       "<AxesSubplot:>"
      ]
     },
     "execution_count": 14,
     "metadata": {},
     "output_type": "execute_result"
    },
    {
     "data": {
      "image/png": "[encoded data removed]",
      "text/plain": [
       "<Figure size 432x288 with 1 Axes>"
      ]
     },
     "metadata": {
      "needs_background": "light"
     },
     "output_type": "display_data"
    }
   ],
   "source": [
    "sns.heatmap(df.isnull(), cbar=False)"
   ]
  },
  {
   "cell_type": "code",
   "execution_count": 15,
   "id": "6c652d24-5c35-43bc-b883-05a1fb9dd843",
   "metadata": {},
   "outputs": [
    {
     "data": {
      "text/plain": [
       "'Fraction of missing values of pickup location id is: 83.03067639882438'"
      ]
     },
     "execution_count": 15,
     "metadata": {},
     "output_type": "execute_result"
    }
   ],
   "source": [
    "f'Fraction of missing values of pickup location id is: {(df[\"PUlocationID\"].isnull().sum() / len(df)) * 100}'"
   ]
  },
  {
   "cell_type": "code",
   "execution_count": 18,
   "id": "73b98f55-39ac-49f1-af0e-d11c920184e7",
   "metadata": {},
   "outputs": [
    {
     "data": {
      "text/plain": [
       "14.0558282038485"
      ]
     },
     "execution_count": 18,
     "metadata": {},
     "output_type": "execute_result"
    }
   ],
   "source": [
    "(df[\"DOlocationID\"].isnull().sum() / len(df)) * 100"
   ]
  },
  {
   "cell_type": "code",
   "execution_count": 19,
   "id": "a9df0101-0c20-400e-ab0b-17de21fa8c67",
   "metadata": {},
   "outputs": [],
   "source": [
    "df[\"PUlocationID\"].fillna(-1, inplace=True) \n",
    "df[\"DOlocationID\"].fillna(-1, inplace=True) "
   ]
  },
  {
   "cell_type": "markdown",
   "id": "e5aa654b-49f0-4ee8-83ea-18bebfa606a8",
   "metadata": {},
   "source": [
    "## Q4. One-hot encoding\n",
    "Let's apply one-hot encoding to the pickup and dropoff location IDs. We'll use only these two features for our model.\n",
    "\n",
    "- Turn the dataframe into a list of dictionaries\n",
    "- Fit a dictionary vectorizer\n",
    "- Get a feature matrix from it\n",
    "\n",
    "What's the dimensionality of this matrix? (The number of columns)"
   ]
  },
  {
   "cell_type": "code",
   "execution_count": 21,
   "id": "fb80c489-be8b-47ec-a42b-4747c81ca84e",
   "metadata": {},
   "outputs": [],
   "source": [
    "from sklearn.preprocessing import OneHotEncoder\n",
    "from sklearn.feature_extraction import DictVectorizer"
   ]
  },
  {
   "cell_type": "markdown",
   "id": "287805e7-d65f-4426-9ac3-f7b10e3e5015",
   "metadata": {},
   "source": [
    "Convert into categorical variables before encoding."
   ]
  },
  {
   "cell_type": "code",
   "execution_count": 22,
   "id": "fb34df17-25a9-4195-9418-446bf105a4d6",
   "metadata": {},
   "outputs": [],
   "source": [
    "categorical = ['PUlocationID', 'DOlocationID']\n",
    "df[categorical] = df[categorical].astype(str)"
   ]
  },
  {
   "cell_type": "code",
   "execution_count": 23,
   "id": "af0d1b8a-35da-4d72-aaa9-4f014583446c",
   "metadata": {},
   "outputs": [],
   "source": [
    "v = DictVectorizer(sparse=False)"
   ]
  },
  {
   "cell_type": "code",
   "execution_count": 24,
   "id": "dc11faf1-4e50-4edd-a26b-a3aca3fbf068",
   "metadata": {},
   "outputs": [],
   "source": [
    "list_of_dicts = df[[\"PUlocationID\", \"DOlocationID\"]].to_dict(\"records\")"
   ]
  },
  {
   "cell_type": "code",
   "execution_count": 25,
   "id": "3f73f7a4-933c-474c-a466-610f993695bf",
   "metadata": {},
   "outputs": [],
   "source": [
    "X = v.fit_transform(list_of_dicts)"
   ]
  },
  {
   "cell_type": "code",
   "execution_count": 26,
   "id": "b120b938-713c-4ec5-afa6-c3494d5d91a3",
   "metadata": {},
   "outputs": [
    {
     "data": {
      "text/plain": [
       "(1154112, 525)"
      ]
     },
     "execution_count": 26,
     "metadata": {},
     "output_type": "execute_result"
    }
   ],
   "source": [
    "X.shape"
   ]
  },
  {
   "cell_type": "markdown",
   "id": "df29cedd-0ac0-4db7-bd03-a185fa631cd7",
   "metadata": {},
   "source": [
    "Alternative way of doing it with pandas `get_dummies` method."
   ]
  },
  {
   "cell_type": "code",
   "execution_count": 27,
   "id": "ca5de478-5423-49b1-a371-bbcad796a70e",
   "metadata": {},
   "outputs": [],
   "source": [
    "df_one_hot = pd.get_dummies(df[[\"PUlocationID\", \"DOlocationID\"]])"
   ]
  },
  {
   "cell_type": "code",
   "execution_count": 28,
   "id": "e6b5bd55-bde1-449c-b62e-f0fd714fc136",
   "metadata": {},
   "outputs": [
    {
     "data": {
      "text/plain": [
       "'Numbers of columns in feature matrix is: 525'"
      ]
     },
     "execution_count": 28,
     "metadata": {},
     "output_type": "execute_result"
    }
   ],
   "source": [
    "f'Numbers of columns in feature matrix is: {df_one_hot.values.shape[1]}'"
   ]
  },
  {
   "cell_type": "markdown",
   "id": "c08717f4-f5b3-4d3b-9346-247dfc2e7b71",
   "metadata": {},
   "source": [
    "525 columns"
   ]
  },
  {
   "cell_type": "markdown",
   "id": "82893bf6-3439-4b00-ad10-3ad94ad2cd7a",
   "metadata": {},
   "source": [
    "## Q5. Training a model\n",
    "Now let's use the feature matrix from the previous step to train a model.\n",
    "\n",
    "- Train a plain linear regression model with default parameters\n",
    "- Calculate the RMSE of the model on the training data\n",
    "\n",
    "What's the RMSE on train?"
   ]
  },
  {
   "cell_type": "code",
   "execution_count": 29,
   "id": "f11a53cb-899a-4720-a140-3c23dc648b26",
   "metadata": {},
   "outputs": [],
   "source": [
    "from sklearn.linear_model import LinearRegression\n",
    "from sklearn.metrics import mean_squared_error"
   ]
  },
  {
   "cell_type": "code",
   "execution_count": 30,
   "id": "3985edca-37bc-4955-ba34-b847ef35896d",
   "metadata": {},
   "outputs": [],
   "source": [
    "df_train = read_dataframe(\"../data/fhv_tripdata_2021-01.parquet\")\n",
    "df_val = read_dataframe(\"../data/fhv_tripdata_2021-02.parquet\")"
   ]
  },
  {
   "cell_type": "code",
   "execution_count": 31,
   "id": "e9a03c61-ee7f-4ce0-b22b-616bb4741376",
   "metadata": {},
   "outputs": [],
   "source": [
    "X_train = pd.get_dummies(df_train[[\"PUlocationID\", \"DOlocationID\"]]).values\n",
    "#X_train = dv.fit_transform(train_dicts)\n",
    "\n",
    "X_val = pd.get_dummies(df_val[[\"PUlocationID\", \"DOlocationID\"]]).values\n",
    "#X_val = dv.fit_transform(val_dicts)"
   ]
  },
  {
   "cell_type": "code",
   "execution_count": 32,
   "id": "0c8e2ffa-6875-4db9-82a8-d27b496b90c6",
   "metadata": {
    "tags": []
   },
   "outputs": [],
   "source": [
    "target = \"duration_min\"\n",
    "y_train = df_train[target].values\n",
    "y_val = df_val[target].values"
   ]
  },
  {
   "cell_type": "code",
   "execution_count": 33,
   "id": "ac48235d-ba8a-4636-8e96-4b443a415aa5",
   "metadata": {
    "tags": []
   },
   "outputs": [
    {
     "data": {
      "text/plain": [
       "10.528519107168236"
      ]
     },
     "execution_count": 33,
     "metadata": {},
     "output_type": "execute_result"
    }
   ],
   "source": [
    "lr = LinearRegression()\n",
    "lr.fit(X_train, y_train)\n",
    "\n",
    "y_pred = lr.predict(X_train)\n",
    "\n",
    "mean_squared_error(y_train, y_pred, squared=False)"
   ]
  },
  {
   "cell_type": "markdown",
   "id": "6c3765b2-3be3-45aa-9b16-a2f389c0ab57",
   "metadata": {},
   "source": [
    "## Q6. Evaluating the model"
   ]
  },
  {
   "cell_type": "markdown",
   "id": "67035868-7060-45a2-a1c7-84ccad10dcec",
   "metadata": {},
   "source": [
    "Now let's apply this model to the validation dataset (Feb 2021).\n",
    "\n",
    "What's the RMSE on validation?"
   ]
  },
  {
   "cell_type": "markdown",
   "id": "eeeebdda-4315-4923-9190-1c66e4126ff4",
   "metadata": {},
   "source": [
    "If I try to do it just as it is, I got an error because feature matrix dimensions are different between training and validation sets."
   ]
  },
  {
   "cell_type": "markdown",
   "id": "46fe9ab5-e431-455d-8db2-cb3b7a155401",
   "metadata": {
    "jupyter": {
     "outputs_hidden": true
    },
    "tags": []
   },
   "source": [
    "```\n",
    "y_pred = lr.predict(X_val)\n",
    "\n",
    "mean_squared_error(y_val, y_pred, squared=False)\n",
    "```"
   ]
  },
  {
   "cell_type": "markdown",
   "id": "f1e436f3-1807-43c5-8887-00222389f9df",
   "metadata": {},
   "source": [
    "Exploring a little bit, I found that there is one value in `DOlocationID` in validation set that is not present in training set, with 3 observations."
   ]
  },
  {
   "cell_type": "code",
   "execution_count": 34,
   "id": "bf92bb64-f0aa-4434-b898-df54b8a2dacc",
   "metadata": {},
   "outputs": [],
   "source": [
    "unique_train = np.concatenate([df_train[\"DOlocationID\"].unique(), df_train[\"PUlocationID\"].unique()])"
   ]
  },
  {
   "cell_type": "code",
   "execution_count": 35,
   "id": "4c022fec-bece-4d2b-a5ad-76e4ec720e82",
   "metadata": {},
   "outputs": [],
   "source": [
    "unique_val = np.concatenate([df_val[\"DOlocationID\"].unique(), df_val[\"PUlocationID\"].unique()])"
   ]
  },
  {
   "cell_type": "code",
   "execution_count": 36,
   "id": "7c9c199a-768d-480f-ab4e-2ff0667c742e",
   "metadata": {},
   "outputs": [],
   "source": [
    "set_A = set(df_train[\"DOlocationID\"].unique())\n",
    "set_B = set(df_val[\"DOlocationID\"].unique())"
   ]
  },
  {
   "cell_type": "code",
   "execution_count": 37,
   "id": "5444969b-3300-4be5-8f1b-19d58dfd0e68",
   "metadata": {},
   "outputs": [
    {
     "name": "stdout",
     "output_type": "stream",
     "text": [
      "263 264\n"
     ]
    }
   ],
   "source": [
    "print(len(df_train[\"DOlocationID\"].unique()), len(df_val[\"DOlocationID\"].unique()))"
   ]
  },
  {
   "cell_type": "code",
   "execution_count": 38,
   "id": "5ec8e395-ade3-4478-80bc-f5d88155e74d",
   "metadata": {},
   "outputs": [
    {
     "data": {
      "text/plain": [
       "{'110.0'}"
      ]
     },
     "execution_count": 38,
     "metadata": {},
     "output_type": "execute_result"
    }
   ],
   "source": [
    "set_B.difference(set_A)"
   ]
  },
  {
   "cell_type": "code",
   "execution_count": 39,
   "id": "c6b3c2e2-de1e-4834-b3c7-0d42be7bc3b6",
   "metadata": {},
   "outputs": [],
   "source": [
    "set_A = set(df_train[\"PUlocationID\"].unique())\n",
    "set_B = set(df_val[\"PUlocationID\"].unique())"
   ]
  },
  {
   "cell_type": "code",
   "execution_count": 40,
   "id": "bbdbf5c2-c912-452d-85e9-a1826b8d0376",
   "metadata": {},
   "outputs": [
    {
     "data": {
      "text/plain": [
       "set()"
      ]
     },
     "execution_count": 40,
     "metadata": {},
     "output_type": "execute_result"
    }
   ],
   "source": [
    "set_A.difference(set_B)"
   ]
  },
  {
   "cell_type": "code",
   "execution_count": 41,
   "id": "4023833a-2e44-4872-991d-e012e3b1b13f",
   "metadata": {},
   "outputs": [
    {
     "data": {
      "text/html": [
       "<div>\n",
       "<style scoped>\n",
       "    .dataframe tbody tr th:only-of-type {\n",
       "        vertical-align: middle;\n",
       "    }\n",
       "\n",
       "    .dataframe tbody tr th {\n",
       "        vertical-align: top;\n",
       "    }\n",
       "\n",
       "    .dataframe thead th {\n",
       "        text-align: right;\n",
       "    }\n",
       "</style>\n",
       "<table border=\"1\" class=\"dataframe\">\n",
       "  <thead>\n",
       "    <tr style=\"text-align: right;\">\n",
       "      <th></th>\n",
       "      <th>dispatching_base_num</th>\n",
       "      <th>pickup_datetime</th>\n",
       "      <th>dropOff_datetime</th>\n",
       "      <th>PUlocationID</th>\n",
       "      <th>DOlocationID</th>\n",
       "      <th>SR_Flag</th>\n",
       "      <th>Affiliated_base_number</th>\n",
       "      <th>duration_min</th>\n",
       "    </tr>\n",
       "  </thead>\n",
       "  <tbody>\n",
       "    <tr>\n",
       "      <th>144951</th>\n",
       "      <td>B03060</td>\n",
       "      <td>2021-02-05 13:18:45</td>\n",
       "      <td>2021-02-05 13:58:48</td>\n",
       "      <td>-1.0</td>\n",
       "      <td>110.0</td>\n",
       "      <td>None</td>\n",
       "      <td>B03060</td>\n",
       "      <td>40.050000</td>\n",
       "    </tr>\n",
       "    <tr>\n",
       "      <th>891678</th>\n",
       "      <td>B00972</td>\n",
       "      <td>2021-02-25 06:51:37</td>\n",
       "      <td>2021-02-25 06:54:21</td>\n",
       "      <td>176.0</td>\n",
       "      <td>110.0</td>\n",
       "      <td>None</td>\n",
       "      <td>B00972</td>\n",
       "      <td>2.733333</td>\n",
       "    </tr>\n",
       "    <tr>\n",
       "      <th>892044</th>\n",
       "      <td>B01452</td>\n",
       "      <td>2021-02-25 06:51:37</td>\n",
       "      <td>2021-02-25 06:54:21</td>\n",
       "      <td>176.0</td>\n",
       "      <td>110.0</td>\n",
       "      <td>None</td>\n",
       "      <td>B01452</td>\n",
       "      <td>2.733333</td>\n",
       "    </tr>\n",
       "  </tbody>\n",
       "</table>\n",
       "</div>"
      ],
      "text/plain": [
       "       dispatching_base_num     pickup_datetime    dropOff_datetime  \\\n",
       "144951               B03060 2021-02-05 13:18:45 2021-02-05 13:58:48   \n",
       "891678               B00972 2021-02-25 06:51:37 2021-02-25 06:54:21   \n",
       "892044               B01452 2021-02-25 06:51:37 2021-02-25 06:54:21   \n",
       "\n",
       "       PUlocationID DOlocationID SR_Flag Affiliated_base_number  duration_min  \n",
       "144951         -1.0        110.0    None                 B03060     40.050000  \n",
       "891678        176.0        110.0    None                 B00972      2.733333  \n",
       "892044        176.0        110.0    None                 B01452      2.733333  "
      ]
     },
     "execution_count": 41,
     "metadata": {},
     "output_type": "execute_result"
    }
   ],
   "source": [
    "df_val[df_val[\"DOlocationID\"] == \"110.0\"]"
   ]
  },
  {
   "cell_type": "markdown",
   "id": "e1407a6e-4514-496c-887c-8968fb1f1f97",
   "metadata": {},
   "source": [
    "So, to solve this issue, I dropped the value to match the dimensions"
   ]
  },
  {
   "cell_type": "code",
   "execution_count": 43,
   "id": "2def4915-afb6-48fe-a910-de34a02822f5",
   "metadata": {
    "tags": []
   },
   "outputs": [],
   "source": [
    "df_val_fix = df_val[df_val[\"DOlocationID\"] != \"110.0\"]"
   ]
  },
  {
   "cell_type": "code",
   "execution_count": 44,
   "id": "4c9cad4a-5c09-4685-ba78-155dac7933dc",
   "metadata": {},
   "outputs": [],
   "source": [
    "X_val_fix = pd.get_dummies(df_val_fix[[\"PUlocationID\", \"DOlocationID\"]]).values\n",
    "y_val_fix = df_val_fix[target].values"
   ]
  },
  {
   "cell_type": "code",
   "execution_count": 45,
   "id": "a2c1110b-2902-46e9-a4a9-6f9f835540f9",
   "metadata": {},
   "outputs": [
    {
     "data": {
      "text/plain": [
       "((990110, 525), (990110,))"
      ]
     },
     "execution_count": 45,
     "metadata": {},
     "output_type": "execute_result"
    }
   ],
   "source": [
    "X_val_fix.shape, y_val_fix.shape"
   ]
  },
  {
   "cell_type": "code",
   "execution_count": 46,
   "id": "4d107a4d-5b45-4b6a-ac11-d79c999b42a2",
   "metadata": {},
   "outputs": [
    {
     "data": {
      "text/plain": [
       "11.01425378462221"
      ]
     },
     "execution_count": 46,
     "metadata": {},
     "output_type": "execute_result"
    }
   ],
   "source": [
    "y_pred = lr.predict(X_val_fix)\n",
    "\n",
    "mean_squared_error(y_val_fix, y_pred, squared=False)"
   ]
  }
 ],
 "metadata": {
  "kernelspec": {
   "display_name": "Python 3 (ipykernel)",
   "language": "python",
   "name": "python3"
  },
  "language_info": {
   "codemirror_mode": {
    "name": "ipython",
    "version": 3
   },
   "file_extension": ".py",
   "mimetype": "text/x-python",
   "name": "python",
   "nbconvert_exporter": "python",
   "pygments_lexer": "ipython3",
   "version": "3.8.13"
  }
 },
 "nbformat": 4,
 "nbformat_minor": 5
}
