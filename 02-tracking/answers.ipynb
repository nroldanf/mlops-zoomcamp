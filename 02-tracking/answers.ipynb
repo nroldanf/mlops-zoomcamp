{
 "cells": [
  {
   "cell_type": "markdown",
   "id": "49289cb4-55c7-41fd-82d7-32846fdd5f82",
   "metadata": {},
   "source": [
    "# 2. Experiment tracking and model management"
   ]
  },
  {
   "cell_type": "markdown",
   "id": "ff6dde95-4221-46c1-acb5-4599054938f2",
   "metadata": {
    "tags": []
   },
   "source": [
    "## Q1. Install MLflow"
   ]
  },
  {
   "cell_type": "markdown",
   "id": "d7db95da-3e21-432c-96d0-c2f1e4f644d9",
   "metadata": {},
   "source": [
    "Once you installed the package, run the command mlflow --version and check the output.\n",
    "\n",
    "What's the version that you have?"
   ]
  },
  {
   "cell_type": "code",
   "execution_count": 1,
   "id": "c9238733-da8b-4045-9e4d-7383e9c3be8c",
   "metadata": {},
   "outputs": [
    {
     "name": "stdout",
     "output_type": "stream",
     "text": [
      "mlflow, version 1.26.1\n"
     ]
    }
   ],
   "source": [
    "!mlflow --version"
   ]
  },
  {
   "cell_type": "markdown",
   "id": "8e18c09c-2aa7-4b28-a4dc-b2c479e23baf",
   "metadata": {
    "tags": []
   },
   "source": [
    "## Q2. Download and preprocess the data"
   ]
  },
  {
   "cell_type": "markdown",
   "id": "42823ea0-ce20-4e2d-ad46-430106f3a4b1",
   "metadata": {},
   "source": [
    "Your task is to download the datasets and then execute this command:\n",
    "```\n",
    "python preprocess_data.py --raw_data_path <TAXI_DATA_FOLDER> --dest_path ./output\n",
    "```\n",
    "How many files were saved to OUTPUT_FOLDER?"
   ]
  },
  {
   "cell_type": "code",
   "execution_count": 7,
   "id": "7529c95e-6ef6-4868-b176-ea2f21e63bd8",
   "metadata": {},
   "outputs": [
    {
     "name": "stdout",
     "output_type": "stream",
     "text": [
      "dv.pkl    test.pkl  train.pkl valid.pkl\n"
     ]
    }
   ],
   "source": [
    "!ls ../processed-data"
   ]
  },
  {
   "cell_type": "markdown",
   "id": "42401624-849e-442f-97f0-ef55daf6a79c",
   "metadata": {},
   "source": [
    "There are 4 files."
   ]
  },
  {
   "cell_type": "markdown",
   "id": "1ae0c333-87e4-4ca6-a7ce-f49b421ee6ca",
   "metadata": {
    "tags": []
   },
   "source": [
    "## Q3. Train a model with autolog"
   ]
  },
  {
   "cell_type": "markdown",
   "id": "df989c3d-fb21-4f7d-82e2-c39f56c0d91d",
   "metadata": {},
   "source": [
    "We will train a random forest regressor (from Scikit-Learn) on the taxi dataset.\n",
    "\n",
    "We have prepared the training script train.py for this exercise, which can be also found in the folder homework. The script will load the datasets produced by the previous step, train the model on the training set and finally calculate the RMSE on the validation set.\n",
    "\n",
    "Your task is to modify the script to enable autologging with MLflow, execute the script and then launch the MLflow UI to check that the experiment run was properly tracked.\n",
    "\n",
    "- Tip 1: don't forget to wrap the training code with a with mlflow.start_run(): statement as we showed in the videos.\n",
    "\n",
    "- Tip 2: don't modify the hyperparameters of the model to make sure that the training will finish quickly.\n",
    "\n",
    "How many parameters are automatically logged by MLflow?"
   ]
  },
  {
   "cell_type": "code",
   "execution_count": 17,
   "id": "abca3140-fc0a-42ea-9c9d-af7107d17ae0",
   "metadata": {},
   "outputs": [],
   "source": [
    "!python train.py --data_path ../processed-data"
   ]
  },
  {
   "cell_type": "code",
   "execution_count": 16,
   "id": "74460e19-fd82-417c-b720-e3bf79454e1c",
   "metadata": {},
   "outputs": [
    {
     "name": "stdout",
     "output_type": "stream",
     "text": [
      "There are 17 parameters logged when using autolog.\n"
     ]
    }
   ],
   "source": [
    "import mlflow\n",
    "client = mlflow.tracking.MlflowClient(tracking_uri=\"sqlite:///mlflow.db\")\n",
    "experiment = client.get_experiment_by_name(\"homework-autolog\")\n",
    "runs = client.search_runs(experiment.experiment_id)\n",
    "print(f\"There are {len(runs[0].data.params)} parameters logged when using autolog.\")"
   ]
  },
  {
   "cell_type": "markdown",
   "id": "557aa22f-7a3b-47c4-9e89-5293f9da39f6",
   "metadata": {
    "tags": []
   },
   "source": [
    "## Q4. Launch the tracking server locally"
   ]
  },
  {
   "cell_type": "markdown",
   "id": "9fa411a9-f5f4-49bd-8050-104da6f52ed9",
   "metadata": {},
   "source": [
    "We want to manage the entire lifecycle of our ML model. In this step, you'll need to launch a tracking server. This way we will also have access to the model registry.\n",
    "\n",
    "Your task is to\n",
    "\n",
    "launch the tracking server on your local machine\n",
    "select a SQLite db for the backend store and a folder called artifacts for the artifacts store\n",
    "You should keep the tracking server running to work on the next two exercises that use the server.\n",
    "\n",
    "In addition to backend-store-uri, what else do you need to pass to properly configure the server?\n",
    "\n",
    "- default-artifact-root\n",
    "- serve-artifacts\n",
    "- artifacts-only\n",
    "- artifacts-destination"
   ]
  },
  {
   "cell_type": "code",
   "execution_count": 19,
   "id": "b3ea8dd1-648a-4f39-9252-43931867bb27",
   "metadata": {},
   "outputs": [
    {
     "name": "stdout",
     "output_type": "stream",
     "text": [
      "Usage: mlflow server [OPTIONS]\n",
      "\n",
      "  Run the MLflow tracking server.\n",
      "\n",
      "  The server listens on http://localhost:5000 by default and only accepts\n",
      "  connections from the local machine. To let the server accept connections\n",
      "  from other machines, you will need to pass ``--host 0.0.0.0`` to listen on\n",
      "  all network interfaces (or a specific interface address).\n",
      "\n",
      "Options:\n",
      "  --backend-store-uri PATH     URI to which to persist experiment and run\n",
      "                               data. Acceptable URIs are SQLAlchemy-compatible\n",
      "                               database connection strings (e.g.\n",
      "                               'sqlite:///path/to/file.db') or local\n",
      "                               filesystem URIs (e.g.\n",
      "                               'file:///absolute/path/to/directory'). By\n",
      "                               default, data will be logged to the ./mlruns\n",
      "                               directory.\n",
      "  --default-artifact-root URI  Directory in which to store artifacts for any\n",
      "                               new experiments created. For tracking server\n",
      "                               backends that rely on SQL, this option is\n",
      "                               required in order to store artifacts. Note that\n",
      "                               this flag does not impact already-created\n",
      "                               experiments with any previous configuration of\n",
      "                               an MLflow server instance. By default, data\n",
      "                               will be logged to the mlflow-artifacts:/ uri\n",
      "                               proxy if the --serve-artifacts option is\n",
      "                               enabled. Otherwise, the default location will\n",
      "                               be ./mlruns.\n",
      "  --serve-artifacts            If specified, enables serving of artifact\n",
      "                               uploads, downloads, and list requests by\n",
      "                               routing these requests to the storage location\n",
      "                               that is specified by '--artifact-destination'\n",
      "                               directly through a proxy. The default location\n",
      "                               that these requests are served from is a local\n",
      "                               './mlartifacts' directory which can be\n",
      "                               overridden via the '--artifacts-destination'\n",
      "                               argument. Default: False\n",
      "  --artifacts-only             If specified, configures the mlflow server to\n",
      "                               be used only for proxied artifact serving. With\n",
      "                               this mode enabled, functionality of the mlflow\n",
      "                               tracking service (e.g. run creation, metric\n",
      "                               logging, and parameter logging) is disabled.\n",
      "                               The server will only expose endpoints for\n",
      "                               uploading, downloading, and listing artifacts.\n",
      "                               Default: False\n",
      "  --artifacts-destination URI  The base artifact location from which to\n",
      "                               resolve artifact upload/download/list requests\n",
      "                               (e.g. 's3://my-bucket'). Defaults to a local\n",
      "                               './mlartifacts' directory. This option only\n",
      "                               applies when the tracking server is configured\n",
      "                               to stream artifacts and the experiment's\n",
      "                               artifact root location is http or mlflow-\n",
      "                               artifacts URI.\n",
      "  -h, --host HOST              The network address to listen on (default:\n",
      "                               127.0.0.1). Use 0.0.0.0 to bind to all\n",
      "                               addresses if you want to access the tracking\n",
      "                               server from other machines.\n",
      "  -p, --port INTEGER           The port to listen on (default: 5000).\n",
      "  -w, --workers TEXT           Number of gunicorn worker processes to handle\n",
      "                               requests (default: 4).\n",
      "  --static-prefix TEXT         A prefix which will be prepended to the path of\n",
      "                               all static paths.\n",
      "  --gunicorn-opts TEXT         Additional command line options forwarded to\n",
      "                               gunicorn processes.\n",
      "  --waitress-opts TEXT         Additional command line options for waitress-\n",
      "                               serve.\n",
      "  --expose-prometheus TEXT     Path to the directory where metrics will be\n",
      "                               stored. If the directory doesn't exist, it will\n",
      "                               be created. Activate prometheus exporter to\n",
      "                               expose metrics on /metrics endpoint.\n",
      "  --help                       Show this message and exit.\n"
     ]
    }
   ],
   "source": [
    "!mlflow server --help"
   ]
  },
  {
   "cell_type": "markdown",
   "id": "dd7e41ba-d5b1-42a3-a7fa-4dd5bee350f1",
   "metadata": {},
   "source": [
    "Command to configure tracking server is:\n",
    "\n",
    "`mlflow server --backend-store-uri \"sqlite:///mlflow.db\" --default-artifact-root \"./artifacts\"`"
   ]
  },
  {
   "cell_type": "markdown",
   "id": "95ea6d5a-b126-4349-8167-c76314c4f8ca",
   "metadata": {},
   "source": [
    "Answer:\n",
    "`--default-artifact-root`"
   ]
  },
  {
   "cell_type": "markdown",
   "id": "b0a6a6c7-70ea-40aa-a211-6f95f8dcbf92",
   "metadata": {
    "tags": []
   },
   "source": [
    "## Q5. Tune the hyperparameters of the model\n",
    "Now let's try to reduce the validation error by tuning the hyperparameters of the random forest regressor using hyperopt.\n",
    "\n",
    "We have prepared the script `hpo.py` for this exercise.\n",
    "\n",
    "Your task is to modify the script `hpo.py` and make sure that the validation RMSE is logged to MLflow for each run of the hyperparameter optimization (you will need to add a few lines of code to the objective function) and run the script without passing any parameters.\n",
    "\n",
    "After that, open the MLflow UI and explore the runs from the experiment called random-forest-hyperopt to answer the question below.\n",
    "\n",
    "__Important:__ don't use autologging for this exercise.\n",
    "\n",
    "The idea is to just log the information that you need to answer the question below, including:\n",
    "\n",
    "- the list of hyperparameters that are passed to the objective function during the optimization.\n",
    "- the RMSE obtained on the validation set (February 2021 data).\n",
    "\n",
    "What's the best validation RMSE that you got?"
   ]
  },
  {
   "cell_type": "markdown",
   "id": "8accfa45-e748-424d-9504-fc26e0201428",
   "metadata": {},
   "source": [
    "- 6.128\n",
    "- 6.628\n",
    "- 7.128\n",
    "- 7.628"
   ]
  },
  {
   "cell_type": "code",
   "execution_count": 20,
   "id": "d5933fb2-5144-45c0-9263-c2284aaae4ad",
   "metadata": {},
   "outputs": [],
   "source": [
    "experiment = client.get_experiment_by_name(\"random-forest-hyperopt\")"
   ]
  },
  {
   "cell_type": "code",
   "execution_count": 21,
   "id": "765fa3d1-ce7f-43f6-9f79-99a7c0cbf739",
   "metadata": {},
   "outputs": [],
   "source": [
    "best_run = client.search_runs(\n",
    "    experiment_ids=experiment.experiment_id, \n",
    "    run_view_type=mlflow.entities.ViewType.ACTIVE_ONLY,\n",
    "    max_results=1,\n",
    "    order_by=[\"metrics.rmse ASC\"]\n",
    ")[0]"
   ]
  },
  {
   "cell_type": "code",
   "execution_count": 22,
   "id": "77fea1e1-6ea1-410c-a5ba-bb33cb5de1fe",
   "metadata": {},
   "outputs": [
    {
     "data": {
      "text/plain": [
       "<Run: data=<RunData: metrics={'rmse': 6.6284257482044735}, params={'max_depth': '19',\n",
       " 'min_samples_leaf': '3',\n",
       " 'min_samples_split': '5',\n",
       " 'n_estimators': '28',\n",
       " 'random_state': '42'}, tags={'mlflow.source.git.commit': '8cd4ade0854aeb907d3805ae97d2df7e5af60c00',\n",
       " 'mlflow.source.name': 'hpo.py',\n",
       " 'mlflow.source.type': 'LOCAL',\n",
       " 'mlflow.user': 'nicolasroldan',\n",
       " 'model': 'random-forest'}>, info=<RunInfo: artifact_uri='./mlruns/3/51d916c9f97f4fdfacd95e3267596a7f/artifacts', end_time=1654120973278, experiment_id='3', lifecycle_stage='active', run_id='51d916c9f97f4fdfacd95e3267596a7f', run_uuid='51d916c9f97f4fdfacd95e3267596a7f', start_time=1654120956785, status='FINISHED', user_id='nicolasroldan'>>"
      ]
     },
     "execution_count": 22,
     "metadata": {},
     "output_type": "execute_result"
    }
   ],
   "source": [
    "best_run"
   ]
  },
  {
   "cell_type": "code",
   "execution_count": null,
   "id": "24d755a5-f122-43d9-90cf-e5617ba27aab",
   "metadata": {},
   "outputs": [
    {
     "data": {
      "text/plain": [
       "['__class__',\n",
       " '__delattr__',\n",
       " '__dict__',\n",
       " '__dir__',\n",
       " '__doc__',\n",
       " '__eq__',\n",
       " '__format__',\n",
       " '__ge__',\n",
       " '__getattribute__',\n",
       " '__gt__',\n",
       " '__hash__',\n",
       " '__init__',\n",
       " '__init_subclass__',\n",
       " '__iter__',\n",
       " '__le__',\n",
       " '__lt__',\n",
       " '__module__',\n",
       " '__ne__',\n",
       " '__new__',\n",
       " '__reduce__',\n",
       " '__reduce_ex__',\n",
       " '__repr__',\n",
       " '__setattr__',\n",
       " '__sizeof__',\n",
       " '__str__',\n",
       " '__subclasshook__',\n",
       " '__weakref__',\n",
       " '_data',\n",
       " '_get_properties_helper',\n",
       " '_info',\n",
       " '_properties',\n",
       " 'data',\n",
       " 'from_dictionary',\n",
       " 'from_proto',\n",
       " 'info',\n",
       " 'to_dictionary',\n",
       " 'to_proto']"
      ]
     },
     "execution_count": 25,
     "metadata": {},
     "output_type": "execute_result"
    }
   ],
   "source": [
    "dir(best_run)"
   ]
  },
  {
   "cell_type": "code",
   "execution_count": 31,
   "id": "a098a8a4-494f-48af-8703-4322ab815bed",
   "metadata": {},
   "outputs": [
    {
     "data": {
      "text/plain": [
       "{'rmse': 6.6284257482044735}"
      ]
     },
     "execution_count": 31,
     "metadata": {},
     "output_type": "execute_result"
    }
   ],
   "source": [
    "best_run.data.metrics"
   ]
  },
  {
   "cell_type": "code",
   "execution_count": 36,
   "id": "bacfbaca-8068-4e9e-9ba9-e7582fa295b8",
   "metadata": {},
   "outputs": [
    {
     "name": "stdout",
     "output_type": "stream",
     "text": [
      "Best validation RMSE is 6.6284257482044735\n"
     ]
    }
   ],
   "source": [
    "print(f\"Best validation RMSE is {best_run.data.metrics['rmse']}\")"
   ]
  },
  {
   "cell_type": "markdown",
   "id": "64ece94c-dc4c-4f64-8ac7-072b0ed2ae25",
   "metadata": {},
   "source": [
    "## Q6. Promote the best model to the model registry"
   ]
  },
  {
   "cell_type": "markdown",
   "id": "432cdc14-678a-4283-bf9d-409a07e6113f",
   "metadata": {},
   "source": [
    "The results from the hyperparameter optimization are quite good so we can assume that we are ready to test some of these models in production. In this exercise, you'll promote the best model to the model registry. We have prepared a script called register_model.py, which will check the results from the previous step and select the top 5 runs. After that, it will calculate the RMSE of those models on the test set (March 2021 data) and save the results to a new experiment called random-forest-best-models.\n",
    "\n",
    "Your task is to update the script register_model.py so that it selects the model with the lowest RMSE on the test set and registers it to the model registry.\n",
    "\n",
    "Tip 1: you can use the method search_runs from the MlflowClient to get the model with the lowest RMSE. Tip 2: to register the model you can use the method mlflow.register_model and you will need to pass the right model_uri in the form of a string that looks like this: \"runs:/<RUN_ID>/model\", and the name of the model (make sure to choose a good one!).\n",
    "\n",
    "What is the test RMSE of the best model?\n",
    "- 6.1\n",
    "- 6.55\n",
    "- 7.93\n",
    "- 15.1"
   ]
  },
  {
   "cell_type": "markdown",
   "id": "44a74305-d4b7-48b4-a7e9-6d57a1e1baac",
   "metadata": {},
   "source": [
    "After executing the following script:"
   ]
  },
  {
   "cell_type": "code",
   "execution_count": null,
   "id": "80ede244-ec40-40b5-9c38-c621ae5c780a",
   "metadata": {},
   "outputs": [],
   "source": [
    "!python register_model.py --data_path ../processed-data"
   ]
  },
  {
   "cell_type": "code",
   "execution_count": 37,
   "id": "5227384a-3681-4e36-be3f-8521f7f58579",
   "metadata": {},
   "outputs": [],
   "source": [
    "experiment = client.get_experiment_by_name(\"random-forest-best-models\")"
   ]
  },
  {
   "cell_type": "code",
   "execution_count": 40,
   "id": "16b22ec4-f53a-4fd9-a495-303f112d8097",
   "metadata": {},
   "outputs": [
    {
     "name": "stdout",
     "output_type": "stream",
     "text": [
      "Test RMSE for the best model is: 6.547886185595423\n"
     ]
    }
   ],
   "source": [
    "best_run_test_set = client.search_runs(\n",
    "    experiment_ids=experiment.experiment_id, \n",
    "    max_results=1,\n",
    "    run_view_type= mlflow.entities.ViewType.ACTIVE_ONLY,\n",
    "    order_by=[\"metrics.test_rmse ASC\"]\n",
    ")[0]\n",
    "print(f\"Test RMSE for the best model is: {best_run_test_set.data.metrics['test_rmse']}\")"
   ]
  },
  {
   "cell_type": "code",
   "execution_count": null,
   "id": "6872084f-593b-4dbe-910c-d4d698486ed9",
   "metadata": {},
   "outputs": [],
   "source": []
  }
 ],
 "metadata": {
  "kernelspec": {
   "display_name": "Python 3 (ipykernel)",
   "language": "python",
   "name": "python3"
  },
  "language_info": {
   "codemirror_mode": {
    "name": "ipython",
    "version": 3
   },
   "file_extension": ".py",
   "mimetype": "text/x-python",
   "name": "python",
   "nbconvert_exporter": "python",
   "pygments_lexer": "ipython3",
   "version": "3.8.13"
  }
 },
 "nbformat": 4,
 "nbformat_minor": 5
}
