{
 "cells": [
  {
   "cell_type": "markdown",
   "id": "416be4d3-9765-4f6f-9a4f-45689077e1ee",
   "metadata": {
    "jp-MarkdownHeadingCollapsed": true,
    "tags": []
   },
   "source": [
    "## 3.6 Homework\n",
    "\n",
    "The goal of this homework is to familiarize users with workflow orchestration. We start from the solution of homework 1. The notebook can be found below:\n",
    "\n",
    "https://github.com/DataTalksClub/mlops-zoomcamp/blob/main/01-intro/homework.ipynb\n",
    "\n",
    "This has already been converted to a script called `homework.py` in the `03-orchestration` folder of this repo. \n",
    "\n",
    "You will use the FHV dataset like in homework 1.\n",
    "\n",
    "\n",
    "## Motivation\n",
    "\n",
    "We already have a model training script. Maybe a data scientist in your team handed it to you and your job is schedule the running of training script using a workflow orchestration - Prefect in this case. Below are the requirements. Do not implement them yet, we will do so in this exercise. Just understand the goal.\n",
    "\n",
    "1. The training flow will be run every month.\n",
    "2. The flow will take in a parameter called `date` which will be a datetime.\n",
    "    * a. `date` should default to None\n",
    "    * b. If `date` is None, set `date` as the current day. Use the data from 2 months back as the training data and the data from the previous month as validation data.\n",
    "    * c. If `date` is passed, get 2 months before the `date` as the training data, and the previous month as validation data.\n",
    "    * d. As a concrete example, if the date passed is \"2021-03-15\", the training data should be \"fhv_tripdata_2021-01.parquet\" and the validation file will be \"fhv_trip_data_2021-02.parquet\"\n",
    "3. Save the model as \"model-{date}.bin\" where date is in `YYYY-MM-DD`. Note that `date` here is the value of the flow `parameter`. In practice, this setup makes it very easy to get the latest model to run predictions because you just need to get the most recent one.\n",
    "4. In this example we use a DictVectorizer. That is needed to run future data through our model. Save that as \"dv-{date}.b\". Similar to above, if the date is `2021-03-15`, the files output should be `model-2021-03-15.bin` and `dv-2021-03-15.b`.\n",
    "\n",
    "This convention is not strict in industry, and in practice, you will come up with your own system to manage these training pipeline runs. For example, if we wanted to train on the whole history instead of just one month, we'd need to allow for added parameterization and logic in our flow. If the data came in weekly instead of monthly, we might need a different naming convention. But these requirements are already a simple approximation of something you could use in production.\n",
    "\n",
    "On the deployment side, it's very easy to just pull in the latest data and predict it using the latest model and vectorizer files. Tools the MLFlow in the last chapter can simplify that process as well. This homework will focus more on the batch training.\n",
    "\n",
    "In order, this homework assignment will be about:\n",
    "\n",
    "1. Converting the script to a Flow\n",
    "2. Changing the parameters to take in a `date`. Making this parameter dynamic.\n",
    "3. Scheduling a batch training job that outputs the latest model somewhere\n",
    "\n",
    "## Setup\n",
    "\n",
    "You can use either local Prefect Orion or a VM hosted Prefect Orion instance for this. It shouldn't matter. Just note that if you use a VM hosted one, you will need to configure your local API to hit the VM.\n",
    "\n",
    "Video 3.4 of the course will give more detailed instructions if you been run it on a VM."
   ]
  },
  {
   "cell_type": "markdown",
   "id": "3d1a9d3f-9c17-4722-bef1-bb3872d29007",
   "metadata": {},
   "source": [
    "## Q1. Converting the script to a Prefect flow\n",
    "\n",
    "If you want to follow the videos exactly, do:\n",
    "\n",
    "```bash\n",
    "pip install prefect==2.0b5\n",
    "```\n",
    "\n",
    "If you need Windows support, check [`windows.md`](windows.md) for installation instructions.\n",
    "\n",
    "The current script `homework.py` is a fully functional script as long as you already have `fhv_trip_data_2021-01.parquet` and `fhv_trip_data_2021-02.parquet` inside a `data` folder. You should be able to already run it using:\n",
    "\n",
    "```bash\n",
    "python homework.py\n",
    "```\n",
    "\n",
    "We want to bring this to workflow orchestration to add observability around it. The `main` function will be converted to a `flow` and the other functions will be `tasks`. After adding all of the decorators, there is actually one task that you will need to call `.result()` for inside the `flow` to get it to work. Which task is this?\n",
    "\n",
    "* `read_data`\n",
    "* `prepare_features`\n",
    "* `train_model`\n",
    "* `run_model`\n",
    "\n",
    "**Answer**: `train_model`\n",
    "\n",
    "Important: change all `print` statements to use the Prefect logger. Using the `print` statement will not appear in the Prefect UI. You have to call `get_run_logger` at the start of the task to use it."
   ]
  },
  {
   "cell_type": "markdown",
   "id": "027766bc-9233-42ee-b1f7-1cae93883237",
   "metadata": {
    "tags": []
   },
   "source": [
    "## Q2. Parameterizing the flow\n",
    "\n",
    "Right now there are two parameters for `main()` called `train_path` and `val_path`. We want to change the flow function to accept `date` instead. `date` should then be passed to a task that gives both the `train_path` and `val_path` to use.\n",
    "\n",
    "It should look like this:\n",
    "\n",
    "```python\n",
    "@flow\n",
    "def main(date=None):\n",
    "    train_path, val_path = get_paths(date).result()\n",
    "    # rest of flow below\n",
    "```\n",
    "\n",
    "Where `get_paths` is a task that you have to implement. The specs for this are outlined in the motivation section. Listing them out again here:\n",
    "\n",
    "The flow will take in a parameter called `date` which will be a datetime.\n",
    "    a. `date` should default to None\n",
    "    b. If `date` is None, use the current day. Use the data from 2 months back as the training data and the data from the previous month as validation data.\n",
    "    c. If a `date` value is supplied, get 2 months before the `date` as the training data, and the previous month as validation data.\n",
    "    d. As a concrete example, if the date passed is \"2021-03-15\", the training data should be \"fhv_tripdata_2021-01.parquet\" and the validation file will be \"fhv_trip_data_2021-02.parquet\"\n",
    "\n",
    "Because we have two files:\n",
    "\n",
    "* fhv_tripdata_2021-01.parquet\n",
    "* fhv_tripdata_2021-02.parquet\n",
    "\n",
    "Change the `main()` flow call to the following:\n",
    "\n",
    "```python\n",
    "main(date=\"2021-03-15\")\n",
    "```\n",
    "\n",
    "and it should use those files. This is a simplification for testing our homework.\n",
    "\n",
    "Recall the page from where we downloaded the For-Hire trip data.\n",
    "\n",
    "https://www1.nyc.gov/site/tlc/about/tlc-trip-record-data.page\n",
    "\n",
    "Download the relevant files needed to run the `main` flow if `date` is 2021-08-15.\n",
    "\n",
    "For example:\n",
    "\n",
    "```python\n",
    "main(date=\"2021-08-15\")\n",
    "```\n",
    "\n",
    "By setting up the logger from the previous step, we should see some logs about our training job. What is the validation MSE when running the flow with this date?\n",
    "\n",
    "Note you need to download the relevant files to run. Part of this question is understanding which files the flow should be looking for.\n",
    "\n",
    "The validation MSE is:\n",
    "\n",
    "* 11.637\n",
    "* 11.837\n",
    "* 12.037\n",
    "* 12.237\n",
    "\n",
    "**Answer:** 11.637031861052277"
   ]
  },
  {
   "cell_type": "markdown",
   "id": "a3aaa230-1b05-4eb2-9e0c-7412794192c7",
   "metadata": {},
   "source": [
    "![](assets/validation_mse.png)"
   ]
  },
  {
   "cell_type": "markdown",
   "id": "da85f11f-1b83-4aba-a240-77b09cdda31b",
   "metadata": {
    "jp-MarkdownHeadingCollapsed": true,
    "tags": []
   },
   "source": [
    "## Q3. Saving the model and artifacts\n",
    "\n",
    "At the moment, we are not saving the model and vectorizer for future use. You don't need a new task for this, you can just add it inside the `flow`. The requirements for filenames to save it as were mentioned in the Motivation section. They are pasted again here:\n",
    "\n",
    "* Save the model as \"model-{date}.bin\" where date is in `YYYY-MM-DD`. Note that `date` here is the value of the flow `parameter`. In practice, this setup makes it very easy to get the latest model to run predictions because you just need to get the most recent one.\n",
    "* In this example we use a DictVectorizer. That is needed to run future data through our model. Save that as \"dv-{date}.b\". Similar to above, if the date is `2021-03-15`, the files output should be `model-2021-03-15.bin` and `dv-2021-03-15.b`.\n",
    "\n",
    "By using this file name, during inference, we can just pull the latest model from our model directory and apply it. Assuming we already had a list of filenames:\n",
    "\n",
    "```python\n",
    "['model-2021-03-15.bin', 'model-2021-04-15.bin', 'model-2021-05-15.bin']\n",
    "```\n",
    "\n",
    "We could do something like `sorted(model_list, reverse=False)[0]` to get the filename of the latest file. This is the simplest way to consistently use the latest trained model for inference. Tools like MLFlow give us more control logic to use flows.\n",
    "\n",
    "What is the file size of the `DictVectorizer` that we trained when the `date` is 2021-08-15?\n",
    "\n",
    "* 13,000 bytes \n",
    "* 23,000 bytes \n",
    "* 33,000 bytes \n",
    "* 43,000 bytes \n",
    "\n",
    "You can bring up the Orion UI and see the work you've been doing. If you are using local Orion, you can start the server with:\n",
    "\n",
    "```bash\n",
    "prefect orion start\n",
    "```\n",
    "\n",
    "You should be able to see previous Flow runs and the most recent successful runs. Navigate to some of them. Take time to explore the UI. The radar plot would be a good thing to share on social media if you participate in those posts.\n",
    "\n",
    "**Answer:** 13.191 bytes (16 KB on disk)"
   ]
  },
  {
   "cell_type": "markdown",
   "id": "fac44f50-58e4-41b7-a1f6-09ebea03e79b",
   "metadata": {
    "tags": []
   },
   "source": [
    "## Q4. Creating a deployment with a CronSchedule\n",
    "\n",
    "We previously showed the `IntervalSchedule` in the video tutorials. In some cases, the interval is too rigid. For example, what if we wanted to run this `flow` on the 15th of every month? An interval of 30 days would not be in sync. In cases like these, the `CronSchedule` is more appropriate. The documentation for that is [here](https://orion-docs.prefect.io/concepts/schedules/#cronschedule)\n",
    "\n",
    "Cron is an important part of workflow orchestration. It is used to schedule tasks, and was a predecessor for more mature orchestration frameworks. A lot of teams still use Cron in production. Even if you don't use Cron, the Cron expression is very common as a way to write a schedule, and the basics are worth learning for orchestration, even outside Prefect.\n",
    "\n",
    "For this exercise, use a `CronSchedule` when creating a Prefect deployment.\n",
    "\n",
    "What is the Cron expression to run a flow at 9 AM every 15th of the month?\n",
    "\n",
    "* `* * 15 9 0`\n",
    "* `9 15 * * *`\n",
    "* `0 9 15 * *`\n",
    "* `0 15 9 1 *`\n",
    "\n",
    "Hint: there are many Cron to English tools. Try looking for one to help you.\n",
    "\n",
    "Create a deployment with `prefect deployment create` after you write your `DeploymentSpec`\n",
    "\n",
    "**Answer**: 0 9 15 * *"
   ]
  },
  {
   "cell_type": "markdown",
   "id": "05578349-80db-4e8a-bfc0-c2c85af7b8a2",
   "metadata": {},
   "source": [
    "![](assets/cron_expression.png)"
   ]
  },
  {
   "cell_type": "markdown",
   "id": "f44dc490-f21c-4bfa-9151-d57c5d048ba9",
   "metadata": {
    "tags": []
   },
   "source": [
    "## Q5. Viewing the Deployment \n",
    "\n",
    "View the deployment in the UI. When first loading, we may not see that many flows because the default filter is 1 day back and 1 day forward. Remove the filter for 1 day forward to see the scheduled runs. \n",
    "\n",
    "How many flow runs are scheduled by Prefect in advance? You should not be counting manually. There is a number of upcoming runs on the top right of the dashboard.\n",
    "\n",
    "* 0\n",
    "* 3\n",
    "* 10\n",
    "* 25\n",
    "\n",
    "**Answer**: 4"
   ]
  },
  {
   "cell_type": "markdown",
   "id": "681416f5-c879-4fec-af41-d72256b96420",
   "metadata": {},
   "source": [
    "![](assets/scheduled_flows.png)"
   ]
  },
  {
   "cell_type": "markdown",
   "id": "27d61fee-dda0-4d74-bad0-904e6c264a90",
   "metadata": {
    "tags": []
   },
   "source": [
    "## Q6. Creating a work-queue\n",
    "\n",
    "In order to run this flow, you will need an agent and a work queue. Because we scheduled our flow on every month, it won't really get picked up by an agent. For this exercise, create a work-queue from the UI and view it using the CLI. \n",
    "\n",
    "For all CLI commands with Prefect, you can use `--help` to get more information. \n",
    "\n",
    "For example,\n",
    "\n",
    "* `prefect --help`\n",
    "* `prefect work-queue --help`\n",
    "\n",
    "What is the command to view the available work-queues?\n",
    "\n",
    "* `prefect work-queue inspect`\n",
    "* `prefect work-queue ls`\n",
    "* `prefect work-queue preview`\n",
    "* `prefect work-queue list`\n",
    "\n",
    "**Answer**: `prefect work-queue ls`\n",
    "\n",
    "## Submit the results\n",
    "\n",
    "* Submit your results here: https://forms.gle/tYEZdrYdXHBizmtJ7\n",
    "* It's possible that your answers won't match exactly. If it's the case, select the closest one.\n",
    "* You can submit your answers multiple times. In this case, the last submission will be used for scoring.\n",
    "\n",
    "## Deadline\n",
    "\n",
    "The deadline for submitting is 11 June 2022 (Saturday) at 23:00 CEST. After that, the form will be closed."
   ]
  },
  {
   "cell_type": "code",
   "execution_count": 1,
   "id": "592c5d02-4fda-4d81-a254-c8066fff9172",
   "metadata": {},
   "outputs": [
    {
     "name": "stdout",
     "output_type": "stream",
     "text": [
      "\u001b[3m           Work Queues           \u001b[0m\n",
      "┏━━━━┳━━━━━━┳━━━━━━━━━━━━━━━━━━━┓\n",
      "┃\u001b[1m \u001b[0m\u001b[1mID\u001b[0m\u001b[1m \u001b[0m┃\u001b[1m \u001b[0m\u001b[1mName\u001b[0m\u001b[1m \u001b[0m┃\u001b[1m \u001b[0m\u001b[1mConcurrency Limit\u001b[0m\u001b[1m \u001b[0m┃\n",
      "┡━━━━╇━━━━━━╇━━━━━━━━━━━━━━━━━━━┩\n",
      "└────┴──────┴───────────────────┘\n",
      "\u001b[31m   (**) denotes a paused queue   \u001b[0m\n"
     ]
    }
   ],
   "source": [
    "!prefect work-queue ls"
   ]
  }
 ],
 "metadata": {
  "kernelspec": {
   "display_name": "Python 3 (ipykernel)",
   "language": "python",
   "name": "python3"
  },
  "language_info": {
   "codemirror_mode": {
    "name": "ipython",
    "version": 3
   },
   "file_extension": ".py",
   "mimetype": "text/x-python",
   "name": "python",
   "nbconvert_exporter": "python",
   "pygments_lexer": "ipython3",
   "version": "3.8.13"
  }
 },
 "nbformat": 4,
 "nbformat_minor": 5
}
